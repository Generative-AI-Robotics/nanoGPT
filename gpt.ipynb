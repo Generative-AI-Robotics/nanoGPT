{
 "cells": [
  {
   "cell_type": "markdown",
   "metadata": {},
   "source": [
    "# Generative Artificial Intelligence\n",
    "\n",
    "* How to create a model that can generate images/text/audio/etc. from user prompts?\n",
    "* Unlabelled data availbale in abundance. Learn hidden sructure from the unlabelled data.\n",
    "\n",
    "In this notebook we specifically address the task of text generation.\n",
    "\n",
    "### What is text generation?\n",
    "Given a sequence, predict what is the next token in the sequence. The sequence can be a series of words or characters and the objective is to predict next word or character respectively in sequence.\n",
    "$$P(w_{t} | w_{t-1}, w_{t-2}, w_{t-3},...,w_{1})$$\n",
    "\n",
    "#### Some basic terminology:\n",
    "**Tokens/Tokenization** - Given a sequence of characters, tokenization is the process of dividing the sequence into smaller units called tokens. Tokens can be individual characters, segments of words, complete words or portions of sentences. Tokens obtained are converted into 1-hot vectors to be fed into the model.\n",
    "\n",
    "**Generative Model** - A model that learns to sample from the probability distribution to generate data that seem to be from the same probability distribution as training data.\n",
    "\n",
    "**Discriminative Model** - In contrast to generative models, discriminative models are trained to differentiate between classes or categories.\n"
   ]
  },
  {
   "cell_type": "markdown",
   "metadata": {},
   "source": [
    "### Dataset"
   ]
  },
  {
   "cell_type": "code",
   "execution_count": 1,
   "metadata": {},
   "outputs": [
    {
     "name": "stdout",
     "output_type": "stream",
     "text": [
      "Length of text:  1115393\n",
      "\n",
      "Sample text:\n",
      "First Citizen:\n",
      "Before we proceed any further, hear me speak.\n",
      "\n",
      "All:\n",
      "Speak, speak.\n",
      "\n",
      "First Citizen:\n",
      "You are all resolved rather to die than to famish?\n",
      "\n",
      "All:\n",
      "Resolved. resolved.\n",
      "\n",
      "First Citizen:\n",
      "First, you know Caius Marcius is chief enemy to the people.\n",
      "\n",
      "All:\n",
      "We know't, we know't.\n",
      "\n",
      "First Citizen:\n",
      "Let us kill him, and we'll have corn at our own price.\n",
      "Is't a verdict?\n",
      "\n",
      "All:\n",
      "No more talking on't; let it \n"
     ]
    }
   ],
   "source": [
    "# Read the input corpus\n",
    "with open('tiny_shakespeare.txt', 'r', encoding='utf-8') as f:\n",
    "    text = f.read()\n",
    "print(\"Length of text: \", len(text))\n",
    "print(f\"\\nSample text:\\n{text[:400]}\")"
   ]
  },
  {
   "cell_type": "markdown",
   "metadata": {},
   "source": [
    "### Tokenization\n",
    "One of the easiest language model to start with is the character level model where each character is a token. It encodes minimum token level information but is easy to implement."
   ]
  },
  {
   "cell_type": "code",
   "execution_count": 2,
   "metadata": {},
   "outputs": [
    {
     "name": "stdout",
     "output_type": "stream",
     "text": [
      "Vocabulary:  \n",
      " !$&',-.3:;?ABCDEFGHIJKLMNOPQRSTUVWXYZabcdefghijklmnopqrstuvwxyz\n",
      "Vocabulary size:  65\n"
     ]
    }
   ],
   "source": [
    "# Create characters as vocabulary\n",
    "chars = sorted(list(set(text)))\n",
    "vocab_size = len(chars)\n",
    "print(\"Vocabulary: \", ''.join(chars))\n",
    "print(\"Vocabulary size: \", vocab_size)"
   ]
  },
  {
   "cell_type": "markdown",
   "metadata": {},
   "source": [
    "To feed characters into a model they need to converted into numbers that can be processed by a model."
   ]
  },
  {
   "cell_type": "code",
   "execution_count": 3,
   "metadata": {},
   "outputs": [],
   "source": [
    "# Encoder and decoder function for idx to char and back\n",
    "stoi = {ch:i for i, ch in enumerate(chars)}\n",
    "itos = {i:ch for i, ch in enumerate(chars)}\n",
    "encode = lambda s: [stoi[c] for c in s]\n",
    "decode = lambda l: ''.join([itos[i] for i in l])"
   ]
  },
  {
   "cell_type": "code",
   "execution_count": 4,
   "metadata": {},
   "outputs": [
    {
     "name": "stdout",
     "output_type": "stream",
     "text": [
      "[31, 46, 39, 49, 43, 57, 54, 43, 39, 56, 43]\n",
      "Shakespeare\n"
     ]
    }
   ],
   "source": [
    "print(encode('Shakespeare'))\n",
    "print(decode(encode('Shakespeare')))"
   ]
  },
  {
   "cell_type": "code",
   "execution_count": 5,
   "metadata": {},
   "outputs": [],
   "source": [
    "# Convert text to torch tensor\n",
    "import torch\n",
    "device = 'cuda' if torch.cuda.is_available() else 'cpu'\n",
    "data = torch.tensor(encode(text), dtype=torch.long)"
   ]
  },
  {
   "cell_type": "code",
   "execution_count": 6,
   "metadata": {},
   "outputs": [],
   "source": [
    "# Split data into train and validation\n",
    "n = int(0.9 * len(data))\n",
    "train_data = data[:n]\n",
    "val_data = data[n:]\n",
    "\n",
    "# Get single batch of data for training\n",
    "def get_batch(split='train', block_size=8, batch_size=4):\n",
    "    data = train_data if split == 'train' else val_data\n",
    "    ix = torch.randint(len(data) - block_size, (batch_size,))\n",
    "    x = torch.stack([data[i : i + block_size] for i in ix])\n",
    "    y = torch.stack([data[i + 1 : i + block_size + 1] for i in ix])\n",
    "    x, y = x.to(device), y.to(device)\n",
    "    return x, y"
   ]
  },
  {
   "cell_type": "code",
   "execution_count": 7,
   "metadata": {},
   "outputs": [
    {
     "data": {
      "text/plain": [
       "(tensor([52, 53, 61, 52,  1, 58, 53,  1]),\n",
       " tensor([53, 61, 52,  1, 58, 53,  1, 52]))"
      ]
     },
     "execution_count": 7,
     "metadata": {},
     "output_type": "execute_result"
    }
   ],
   "source": [
    "x, y  = get_batch(split='train')\n",
    "x[0], y[0]"
   ]
  },
  {
   "cell_type": "markdown",
   "metadata": {},
   "source": [
    "### Generative Model\n",
    "**Possible generative models**:\n",
    "1. **N-gram model** - Given n-previous tokens in the sequence, predict the next token. Most common approaches are bigram or trigram model with bayes estimation. Larger the value of **N**, more context information can be incorporated.\n",
    "2. **Recurrent neural networks** - A goto neural network achitecture for working with sequential data. Behind the scenes, just a neural network that processes each token of the sequential input one at a time. \n",
    "\n",
    "<p align=\"center\">\n",
    "<img src=\"assets/rnn.webp\" width=\"700\">\n",
    "</p>\n",
    "\n",
    "Condenses entire history of the sequence into a single vecctor. Theoretically RNNs can process infinite history but this is limited proctically by computational constraints and memory requirements. Even with a large enough history, RNNs struggle with long term dependencies.\n",
    "\n",
    "3. **Transformer models** - Introduced in 2017 by the paper [Attention Is All You Need](https://arxiv.org/pdf/1706.03762.pdf). The paper introduces an architecture that provides a differentiable lookup method for the called `Attention` that potentially solves the problem of long term dependencies by allowing the model to lookup specific information from the history as required.\n",
    "\n",
    "e.g., Prompt - Where is Eiffel Tower located? Answer - It is located in Paris. Here `It` is related to `Eiffel Tower`, `is` to `is` and `located` to `located`.\n",
    "\n",
    "In this notebook we will start with a simple Bigram model and slowly build our way towards a Transformer model."
   ]
  },
  {
   "cell_type": "markdown",
   "metadata": {},
   "source": [
    "### Bigram Model\n",
    "\n",
    "**Embedding layer** - Converts from an index-based representation to a vector representation i.e., each index is mapped to a vector."
   ]
  },
  {
   "cell_type": "code",
   "execution_count": 8,
   "metadata": {},
   "outputs": [
    {
     "name": "stdout",
     "output_type": "stream",
     "text": [
      "tensor([52, 53, 61, 52,  1, 58, 53,  1])\n",
      "torch.Size([8, 65])\n"
     ]
    }
   ],
   "source": [
    "import torch.nn as nn\n",
    "from torch.nn import functional as F\n",
    "torch.manual_seed(1337)\n",
    "\n",
    "example_layer = nn.Embedding(vocab_size, vocab_size)\n",
    "print(x[0])\n",
    "print(example_layer(x[0]).shape)"
   ]
  },
  {
   "cell_type": "code",
   "execution_count": 9,
   "metadata": {},
   "outputs": [],
   "source": [
    "class BigramLanguageModel(nn.Module):\n",
    "    def __init__(self, vocab_size):\n",
    "        super().__init__()\n",
    "        self.token_embedding_table = nn.Embedding(vocab_size, vocab_size)\n",
    "        \n",
    "    def forward(self, idx, targets=None):\n",
    "        logits = self.token_embedding_table(idx) # (B, T, C) (4, 8, 65)\n",
    "        \n",
    "        if targets is None:\n",
    "            loss = None\n",
    "        else:\n",
    "            B, T, C = logits.shape\n",
    "            logits = logits.view(B * T, C)\n",
    "            targets = targets.view(B * T)\n",
    "            loss = F.cross_entropy(logits, targets)\n",
    "        \n",
    "        return logits, loss\n",
    "    \n",
    "    def generate(self, idx, max_new_tokens):\n",
    "        for _ in range(max_new_tokens):\n",
    "            logits, loss = self(idx)  # calls forward function\n",
    "            logits = logits[:, -1, :] # only consider the last output\n",
    "            probs = F.softmax(logits, dim=-1) # normalize it to a probabilty distribution\n",
    "            idx_next = torch.multinomial(probs, num_samples=1) # Sample from the distribution\n",
    "            idx = torch.cat((idx, idx_next), dim=1) # Add it to the generated sequence\n",
    "            \n",
    "        return idx"
   ]
  },
  {
   "cell_type": "markdown",
   "metadata": {},
   "source": [
    "#### Instantiate Bigram model"
   ]
  },
  {
   "cell_type": "code",
   "execution_count": 10,
   "metadata": {},
   "outputs": [
    {
     "name": "stdout",
     "output_type": "stream",
     "text": [
      "torch.Size([32, 65]) torch.Size([4, 8])\n"
     ]
    }
   ],
   "source": [
    "m = BigramLanguageModel(vocab_size)\n",
    "xb, yb = get_batch(split='train')\n",
    "logits, loss = m(xb, yb)\n",
    "print(logits.shape, yb.shape)"
   ]
  },
  {
   "cell_type": "code",
   "execution_count": 11,
   "metadata": {},
   "outputs": [
    {
     "name": "stdout",
     "output_type": "stream",
     "text": [
      "ThoutMtoIQlNhv\n"
     ]
    }
   ],
   "source": [
    "idx = torch.tensor(encode('Thou'), dtype=torch.long).unsqueeze(dim=0)\n",
    "print(decode(m.generate(idx, 10)[0].tolist()))"
   ]
  },
  {
   "cell_type": "markdown",
   "metadata": {},
   "source": [
    "#### Train the model"
   ]
  },
  {
   "cell_type": "code",
   "execution_count": 12,
   "metadata": {},
   "outputs": [
    {
     "name": "stdout",
     "output_type": "stream",
     "text": [
      "Step 1000: train loss 3.5794, validation loss 3.6787\n",
      "Step 2000: train loss 3.1601, validation loss 3.4702\n",
      "Step 3000: train loss 2.6498, validation loss 2.4051\n",
      "Step 4000: train loss 2.8391, validation loss 2.6292\n",
      "Step 5000: train loss 2.6887, validation loss 2.1569\n",
      "Step 6000: train loss 2.1346, validation loss 2.9213\n",
      "Step 7000: train loss 2.5841, validation loss 2.7375\n",
      "Step 8000: train loss 2.5508, validation loss 3.0115\n",
      "Step 9000: train loss 2.5025, validation loss 2.5043\n",
      "Step 10000: train loss 2.5324, validation loss 2.4189\n",
      "Trained model validation loss: 2.6159\n"
     ]
    }
   ],
   "source": [
    "optimizer = torch.optim.AdamW(m.parameters(), lr=1e-3)\n",
    "batch_size = 32\n",
    "eval_iters = 300\n",
    "train_iters = 10000\n",
    "\n",
    "@torch.no_grad()\n",
    "def estimate_loss(model):\n",
    "    model.eval()\n",
    "    out = {}\n",
    "    for split in ['train', 'val']:\n",
    "        losses = torch.zeros(eval_iters)\n",
    "        for k in range(eval_iters):\n",
    "            X, Y = get_batch(split=split)\n",
    "            logits, loss = model(X, Y)\n",
    "            losses[k] = loss.item()\n",
    "        out[split] = loss.mean()\n",
    "    model.train()\n",
    "    return out['train'], out['val']\n",
    "\n",
    "def train_model(model, optimizer):\n",
    "    for step in range(train_iters):\n",
    "        xb, yb = get_batch('train', batch_size=batch_size)\n",
    "        logits, loss = m(xb, yb)\n",
    "        optimizer.zero_grad(set_to_none=True)\n",
    "        loss.backward()\n",
    "        optimizer.step()\n",
    "        if ((step + 1) % 1000 == 0):\n",
    "            train_loss, val_loss = estimate_loss(model=model)\n",
    "            print(f'Step {step + 1}: train loss {train_loss:.4f}, validation loss {val_loss:.4f}')\n",
    "\n",
    "train_model(m, optimizer)\n",
    "print(f'Trained model validation loss: {estimate_loss(m)[1]:.4f}')"
   ]
  },
  {
   "cell_type": "code",
   "execution_count": 13,
   "metadata": {},
   "outputs": [
    {
     "name": "stdout",
     "output_type": "stream",
     "text": [
      "Thoue\n",
      "I o o to\n"
     ]
    }
   ],
   "source": [
    "idx = torch.tensor(encode('Thou'), dtype=torch.long).unsqueeze(dim=0)\n",
    "print(decode(m.generate(idx, 10)[0].tolist()))"
   ]
  },
  {
   "cell_type": "markdown",
   "metadata": {},
   "source": [
    "### Transformer Models\n",
    "\n",
    "In bigram model, we are only considering the last character of the sequence to generate a new character. With the help of transformers we will enable the model to look into the entire history i.e., all the characters (limited to block size of the data) in the sequence so far.\n",
    "\n",
    "At the core of the transformer is a `single attention head` (referred to in the paper as Scaled Dot-Product Attention).\n",
    "\n",
    "<p align=\"center\">\n",
    "<img src=\"assets/Single-head attention.png\" width=\"200\">\n",
    "</p>\n",
    "\n",
    "$$Attention(Q, K, V) = softmax(\\frac{QK^T}{\\sqrt(d_k)})V$$\n",
    "\n",
    "**Q, K, V** - Query, Key and Value vectors corresponding to the vector representations for each token."
   ]
  },
  {
   "cell_type": "code",
   "execution_count": 14,
   "metadata": {},
   "outputs": [
    {
     "name": "stdout",
     "output_type": "stream",
     "text": [
      "tensor([53, 51, 43,  1])\n",
      "input: tensor([53]), target: 51\n",
      "input: tensor([53, 51]), target: 43\n",
      "input: tensor([53, 51, 43]), target: 1\n",
      "input: tensor([53, 51, 43,  1]), target: 51\n",
      "tensor([[1., 0., 0., 0.],\n",
      "        [1., 1., 0., 0.],\n",
      "        [1., 1., 1., 0.],\n",
      "        [1., 1., 1., 1.]])\n"
     ]
    }
   ],
   "source": [
    "xb, yb = get_batch(split='train')\n",
    "print(xb[0, :4])\n",
    "\n",
    "for b in range(1):\n",
    "    for t in range(4):\n",
    "        context = xb[b, :t+1]\n",
    "        target = yb[b, t]\n",
    "        print(f\"input: {context}, target: {target}\")\n",
    "\n",
    "tril = torch.tril(torch.ones(4, 4))\n",
    "print(tril)"
   ]
  },
  {
   "cell_type": "code",
   "execution_count": 15,
   "metadata": {},
   "outputs": [],
   "source": [
    "class SingleHeadAttention(nn.Module):\n",
    "    def __init__(self, head_size=32, embed_dim=32, block_size=8, dropout=0.4) -> None:\n",
    "        super().__init__()\n",
    "        self.key = nn.Linear(embed_dim, head_size, bias=False)\n",
    "        self.query = nn.Linear(embed_dim, head_size, bias=False)\n",
    "        self.value = nn.Linear(embed_dim, head_size, bias=False)\n",
    "        self.register_buffer('tril', torch.tril(torch.ones(block_size, block_size)))\n",
    "        self.dropout = nn.Dropout(dropout)\n",
    "        \n",
    "    def forward(self, x):\n",
    "        B, T, C = x.shape\n",
    "        k = self.key(x) # (B, T, C)\n",
    "        q = self.query(x) # (B, T, C)\n",
    "        # Attention scores\n",
    "        weights = q @ k.transpose(-2, -1) * C**-0.5 # # (B, T, C) @ # (B, C, T) --> # (B, T, T)\n",
    "        weights = weights.masked_fill(self.tril[:T, :T] == 0, float('-inf')) # (B, T, T)\n",
    "        weights = F.softmax(weights, dim=-1) # (B, T, T)\n",
    "        weights = self.dropout(weights)\n",
    "        # weighted aggregation of values\n",
    "        v = self.value(x) # (B, T, C)\n",
    "        context = weights @ v # (B, T, T) @ (B, T, C) -> (B, T, C)\n",
    "        return context\n",
    "\n",
    "    \n",
    "class LanguageModelBase(nn.Module):\n",
    "    def __init__(self, head_size=32, embed_dim=32, block_size=8, dropout=0.4) -> None:\n",
    "        super().__init__()\n",
    "        self.block_size = block_size\n",
    "        self.token_embedding_table = nn.Embedding(vocab_size, embed_dim)\n",
    "        self.positional_embedding_table = nn.Embedding(block_size, embed_dim)\n",
    "        self.attention_head = SingleHeadAttention(head_size, embed_dim, block_size, dropout)\n",
    "        self.lm_head = nn.Linear(head_size, vocab_size)\n",
    "        \n",
    "    def forward(self, idx, targets = None):\n",
    "        _, T = idx.shape\n",
    "        token_embed = self.token_embedding_table(idx) # (B, T, embed_dim)\n",
    "        pos_embed = self.positional_embedding_table(torch.arange(T, device=device)) # (T, embed_dim)\n",
    "        x = token_embed + pos_embed # (B, T, embed_dim)\n",
    "        x = self.attention_head(x) # (B, T, head_size)\n",
    "        logits = self.lm_head(x) # (B, head_size, vocab_size)\n",
    "        \n",
    "        if targets is None:\n",
    "            loss = None\n",
    "        else:\n",
    "            B, T, C = logits.shape\n",
    "            logits = logits.view(B * T, C)\n",
    "            targets = targets.view(B * T)\n",
    "            loss = F.cross_entropy(logits, targets)\n",
    "        return logits, loss\n",
    "        \n",
    "    def generate(self, idx, max_new_tokens):\n",
    "        for _ in range(max_new_tokens):\n",
    "            idx_cond = idx[:, -self.block_size:]\n",
    "            logits, loss = self(idx_cond)\n",
    "            logits = logits[:, -1, :]\n",
    "            probs = F.softmax(logits, dim=-1)\n",
    "            idx_next = torch.multinomial(probs, num_samples=1)\n",
    "            idx = torch.cat((idx, idx_next), dim=1)\n",
    "            \n",
    "        return idx"
   ]
  },
  {
   "cell_type": "code",
   "execution_count": 16,
   "metadata": {},
   "outputs": [
    {
     "name": "stdout",
     "output_type": "stream",
     "text": [
      "7.553 K parameters\n",
      "Step 1000: train loss 2.5169, validation loss 2.6409\n",
      "Step 2000: train loss 2.1906, validation loss 2.5111\n",
      "Step 3000: train loss 2.3107, validation loss 2.4914\n",
      "Step 4000: train loss 2.6634, validation loss 2.4616\n",
      "Step 5000: train loss 2.5612, validation loss 2.1113\n",
      "Step 6000: train loss 2.5049, validation loss 2.8011\n",
      "Step 7000: train loss 2.5295, validation loss 2.4417\n",
      "Step 8000: train loss 2.5306, validation loss 2.5736\n",
      "Step 9000: train loss 2.4072, validation loss 2.6101\n",
      "Step 10000: train loss 2.5806, validation loss 2.5888\n",
      "Trained model validation loss: 2.5693\n"
     ]
    }
   ],
   "source": [
    "model = LanguageModelBase()\n",
    "m = model.to(device)\n",
    "print(sum(p.numel() for p in m.parameters()) / 1e3, 'K parameters')\n",
    "optimizer = torch.optim.AdamW(m.parameters(), lr=1e-3)\n",
    "train_model(model=m, optimizer=optimizer)\n",
    "print(f'Trained model validation loss: {estimate_loss(m)[1]:.4f}')"
   ]
  },
  {
   "cell_type": "code",
   "execution_count": 17,
   "metadata": {},
   "outputs": [
    {
     "name": "stdout",
     "output_type": "stream",
     "text": [
      "Thouw wa eacer\n"
     ]
    }
   ],
   "source": [
    "idx = torch.tensor(encode('Thou'), dtype=torch.long).unsqueeze(dim=0)\n",
    "print(decode(m.generate(idx, 10)[0].tolist()))"
   ]
  },
  {
   "cell_type": "markdown",
   "metadata": {},
   "source": [
    "#### Multi-head Attention"
   ]
  },
  {
   "cell_type": "code",
   "execution_count": null,
   "metadata": {},
   "outputs": [],
   "source": []
  }
 ],
 "metadata": {
  "kernelspec": {
   "display_name": "Python 3",
   "language": "python",
   "name": "python3"
  },
  "language_info": {
   "codemirror_mode": {
    "name": "ipython",
    "version": 3
   },
   "file_extension": ".py",
   "mimetype": "text/x-python",
   "name": "python",
   "nbconvert_exporter": "python",
   "pygments_lexer": "ipython3",
   "version": "3.10.12"
  }
 },
 "nbformat": 4,
 "nbformat_minor": 2
}
